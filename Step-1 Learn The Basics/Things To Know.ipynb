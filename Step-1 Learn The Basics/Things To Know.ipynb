{
 "cells": [
  {
   "cell_type": "markdown",
   "metadata": {},
   "source": [
    "Find Character Case\n",
    "Easy\n",
    "Problem statement: \n",
    "\n",
    "Write a program that takes a character as input and prints 1, 0, or -1 according to the following rules.\n",
    "\n",
    "1, if the character is an uppercase alphabet (A - Z).\n",
    "0, if the character is a lowercase alphabet (a - z).\n",
    "-1, if the character is not an alphabet.\n",
    "\n",
    "Example:\n",
    "Input: The character is 'a'.\n",
    "\n",
    "Output: 0\n",
    "\n",
    "Explanation: The input character is lowercase, so our answer is 0."
   ]
  },
  {
   "cell_type": "code",
   "execution_count": 1,
   "metadata": {},
   "outputs": [
    {
     "name": "stdout",
     "output_type": "stream",
     "text": [
      "0\n"
     ]
    }
   ],
   "source": [
    "## Read input as specified in the question.\n",
    "## Print output as specified in the question.\n",
    "\n",
    "a = input()\n",
    "c = ord(a)\n",
    "\n",
    "if c >= 65 and c <= 90:\n",
    "    print(\"1\")\n",
    "elif c >= 97 and c <= 122:\n",
    "    print(\"0\")\n",
    "else:\n",
    "    print(\"-1\")"
   ]
  },
  {
   "cell_type": "markdown",
   "metadata": {},
   "source": [
    "Data Type\n",
    "Easy\n",
    "40/40\n",
    "Average time to solve is 10m\n",
    "\n",
    "Problem statement\n",
    "Data type refers to the type of value a variable has and the way the computer interprets it.\n",
    "\n",
    "\n",
    "\n",
    "Each data type has a different size. You’ve studied 5 different data types and the sizes of the data types:\n",
    "\n",
    "Integer: 4 bytes\n",
    "Long: 8 bytes\n",
    "Float: 4 bytes\n",
    "Double: 8 bytes\n",
    "Character: 1 byte\n",
    "\n",
    "\n",
    "You’re given a data type. Print its size in bytes.\n",
    "\n",
    "\n",
    "\n",
    "Example :\n",
    "Input: Long\n",
    "\n",
    "Output: 8\n",
    "\n",
    "Explanation: The size of a Long variable is given as 8 bytes."
   ]
  },
  {
   "cell_type": "code",
   "execution_count": 2,
   "metadata": {},
   "outputs": [],
   "source": [
    "from typing import *\n",
    "\n",
    "def dataTypes(type: str):\n",
    "    if type == \"Integer\":\n",
    "        return 4\n",
    "    elif type == \"Long\":\n",
    "        return 8\n",
    "    elif type == \"Float\":\n",
    "        return 4\n",
    "    elif type == \"Double\":\n",
    "        return 8\n",
    "    elif type == \"Character\":\n",
    "        return 1\n",
    "    else:\n",
    "        return -1"
   ]
  },
  {
   "cell_type": "markdown",
   "metadata": {},
   "source": [
    "if-else (Decision Making)\n",
    "Easy\n",
    "Problem statement\n",
    "Programming languages have some conditional / decision-making statements that execute when some specific condition is fulfilled.\n",
    "\n",
    "If-else is one of the ways to implement them.\n",
    "\n",
    "You are given two numbers 'a' and 'b'.\n",
    "\n",
    "Compare the numbers and print the relation.\n",
    "\n",
    "Print “smaller”, “greater” or “equal” when ‘a’ is smaller than ‘b’, greater than ‘b’, or equal to ‘b’ respectively.\n",
    "\n",
    "Example :\n",
    "Input: ‘a’ = 5 and ‘b’ = 3\n",
    "\n",
    "Output: greater\n",
    "\n",
    "Explanation: Since ‘a’ (= 5) is greater than ‘b’ (= 3), we are printing “greater”."
   ]
  },
  {
   "cell_type": "code",
   "execution_count": 3,
   "metadata": {},
   "outputs": [],
   "source": [
    "from typing import *\n",
    "\n",
    "def compareIfElse(a: int, b: int):\n",
    "    # Write your code here\n",
    "    if a > b:\n",
    "        return \"greater\"\n",
    "    elif a < b:\n",
    "        return \"smaller\"\n",
    "    else:\n",
    "        return \"equal\""
   ]
  },
  {
   "cell_type": "code",
   "execution_count": null,
   "metadata": {},
   "outputs": [],
   "source": [
    "\n",
    "\n"
   ]
  },
  {
   "cell_type": "code",
   "execution_count": null,
   "metadata": {},
   "outputs": [],
   "source": []
  }
 ],
 "metadata": {
  "kernelspec": {
   "display_name": "Python 3",
   "language": "python",
   "name": "python3"
  },
  "language_info": {
   "codemirror_mode": {
    "name": "ipython",
    "version": 3
   },
   "file_extension": ".py",
   "mimetype": "text/x-python",
   "name": "python",
   "nbconvert_exporter": "python",
   "pygments_lexer": "ipython3",
   "version": "3.12.0"
  }
 },
 "nbformat": 4,
 "nbformat_minor": 2
}
